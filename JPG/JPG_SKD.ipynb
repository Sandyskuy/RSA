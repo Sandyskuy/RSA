{
 "cells": [
  {
   "cell_type": "code",
   "execution_count": 1,
   "id": "47b15077",
   "metadata": {},
   "outputs": [],
   "source": [
    "import cv2\n",
    "import numpy as np\n",
    "\n",
    "demo = cv2.imread(\"C:/Users/User/OneDrive/Pictures/anjay.JPG\", 0)\n",
    "r, c = demo.shape\n",
    "key = np.random.randint(0, 256, size=(r, c), dtype=np.uint8)\n",
    "cv2.imwrite(\"C:/Users/User/OneDrive/Pictures/anjay.JPG\", key)\n",
    "\n",
    "cv2.imshow(\"demo\", demo)\n",
    "cv2.imshow(\"key\", key)\n",
    "\n",
    "encryption = cv2.bitwise_xor(demo, key)\n",
    "cv2.imwrite(\"C:/Users/User/OneDrive/Pictures/anjay.JPG\", encryption)\n",
    "decryption = cv2.bitwise_xor(encryption, key)\n",
    "cv2.imwrite(\"C:/Users/User/OneDrive/Pictures/anjay.JPG\", decryption)\n",
    "\n",
    "cv2.imshow(\"encryption\", encryption)\n",
    "cv2.imshow(\"decryption\", decryption)\n",
    "\n",
    "cv2.waitKey(-1)\n",
    "cv2.destroyAllWindows()"
   ]
  },
  {
   "cell_type": "code",
   "execution_count": null,
   "id": "e93f143c",
   "metadata": {},
   "outputs": [],
   "source": []
  }
 ],
 "metadata": {
  "kernelspec": {
   "display_name": "Python 3 (ipykernel)",
   "language": "python",
   "name": "python3"
  },
  "language_info": {
   "codemirror_mode": {
    "name": "ipython",
    "version": 3
   },
   "file_extension": ".py",
   "mimetype": "text/x-python",
   "name": "python",
   "nbconvert_exporter": "python",
   "pygments_lexer": "ipython3",
   "version": "3.11.5"
  }
 },
 "nbformat": 4,
 "nbformat_minor": 5
}
